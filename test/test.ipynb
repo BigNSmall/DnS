{
 "cells": [
  {
   "cell_type": "code",
   "execution_count": 2,
   "metadata": {},
   "outputs": [],
   "source": [
    "import pandas as pd"
   ]
  },
  {
   "cell_type": "code",
   "execution_count": 3,
   "metadata": {},
   "outputs": [],
   "source": [
    "def create_time_windows(df, window_size, stride):\n",
    "    # 입력 유효성 검사\n",
    "    if not isinstance(df, pd.DataFrame):\n",
    "        raise ValueError(\"Input must be a pandas DataFrame\")\n",
    "    if not isinstance(window_size, int) or window_size <= 0:\n",
    "        raise ValueError(\"window_size must be a positive integer\")\n",
    "    if not isinstance(stride, int) or stride <= 0:\n",
    "        raise ValueError(\"stride must be a positive integer\")\n",
    "    \n",
    "    # 결과를 저장할 딕셔너리 생성\n",
    "    result_dict = {}\n",
    "    \n",
    "    # 각 열에 대해 반복\n",
    "    for column in df.columns:\n",
    "        # 시간 윈도우 생성\n",
    "        windows = {}\n",
    "        for i in range(0, len(df) - window_size + 1, stride):\n",
    "            window = df[column].iloc[i:i+window_size].values\n",
    "            windows[df.index[i+window_size-1]] = window\n",
    "        \n",
    "        # 윈도우 데이터로 새 DataFrame 생성\n",
    "        window_df = pd.DataFrame.from_dict(windows, orient='index')\n",
    "        window_df.columns = [f\"{column}_t-{window_size-i-1}\" for i in range(window_size)]\n",
    "        \n",
    "        # 결과 딕셔너리에 추가\n",
    "        result_dict[column] = window_df\n",
    "    \n",
    "    return result_dict"
   ]
  },
  {
   "cell_type": "code",
   "execution_count": 4,
   "metadata": {},
   "outputs": [],
   "source": [
    "df = pd.read_parquet(r\"D:\\Workspace\\DnS\\data\\AJ네트웍스_20190825_20240825.parquet\")"
   ]
  },
  {
   "cell_type": "code",
   "execution_count": 5,
   "metadata": {},
   "outputs": [
    {
     "data": {
      "text/plain": [
       "(1233, 6)"
      ]
     },
     "execution_count": 5,
     "metadata": {},
     "output_type": "execute_result"
    }
   ],
   "source": [
    "df.shape"
   ]
  },
  {
   "cell_type": "code",
   "execution_count": 27,
   "metadata": {},
   "outputs": [
    {
     "data": {
      "text/plain": [
       "'| 날짜                |   시가 |   고가 |   저가 |   종가 |   거래량 |    등락률 |\\n|:--------------------|-------:|-------:|-------:|-------:|---------:|----------:|\\n| 2019-08-26 00:00:00 |   4615 |   4615 |   4480 |   4540 |    34971 | -2.36559  |\\n| 2019-08-27 00:00:00 |   4505 |   4585 |   4505 |   4560 |    20983 |  0.440529 |\\n| 2019-08-28 00:00:00 |   4540 |   4640 |   4490 |   4580 |    20526 |  0.438596 |'"
      ]
     },
     "execution_count": 27,
     "metadata": {},
     "output_type": "execute_result"
    }
   ],
   "source": [
    "df.head(3).to_markdown()"
   ]
  },
  {
   "cell_type": "code",
   "execution_count": 7,
   "metadata": {},
   "outputs": [],
   "source": [
    "window_size = 5  # window 크기\n",
    "stride = 2  # stride 크기\n",
    "df_list = create_time_windows(df, window_size, stride)"
   ]
  },
  {
   "cell_type": "code",
   "execution_count": 8,
   "metadata": {},
   "outputs": [
    {
     "data": {
      "text/html": [
       "<div>\n",
       "<style scoped>\n",
       "    .dataframe tbody tr th:only-of-type {\n",
       "        vertical-align: middle;\n",
       "    }\n",
       "\n",
       "    .dataframe tbody tr th {\n",
       "        vertical-align: top;\n",
       "    }\n",
       "\n",
       "    .dataframe thead th {\n",
       "        text-align: right;\n",
       "    }\n",
       "</style>\n",
       "<table border=\"1\" class=\"dataframe\">\n",
       "  <thead>\n",
       "    <tr style=\"text-align: right;\">\n",
       "      <th></th>\n",
       "      <th>lag_0</th>\n",
       "      <th>lag_1</th>\n",
       "      <th>lag_2</th>\n",
       "      <th>lag_3</th>\n",
       "      <th>lag_4</th>\n",
       "    </tr>\n",
       "  </thead>\n",
       "  <tbody>\n",
       "    <tr>\n",
       "      <th>0</th>\n",
       "      <td>1.0</td>\n",
       "      <td>0.994347</td>\n",
       "      <td>0.988418</td>\n",
       "      <td>0.981891</td>\n",
       "      <td>0.97527</td>\n",
       "    </tr>\n",
       "    <tr>\n",
       "      <th>1</th>\n",
       "      <td>1.0</td>\n",
       "      <td>0.994347</td>\n",
       "      <td>0.988418</td>\n",
       "      <td>0.981891</td>\n",
       "      <td>0.97527</td>\n",
       "    </tr>\n",
       "    <tr>\n",
       "      <th>2</th>\n",
       "      <td>1.0</td>\n",
       "      <td>0.994347</td>\n",
       "      <td>0.988418</td>\n",
       "      <td>0.981891</td>\n",
       "      <td>0.97527</td>\n",
       "    </tr>\n",
       "    <tr>\n",
       "      <th>3</th>\n",
       "      <td>1.0</td>\n",
       "      <td>0.994347</td>\n",
       "      <td>0.988418</td>\n",
       "      <td>0.981891</td>\n",
       "      <td>0.97527</td>\n",
       "    </tr>\n",
       "    <tr>\n",
       "      <th>4</th>\n",
       "      <td>1.0</td>\n",
       "      <td>0.994347</td>\n",
       "      <td>0.988418</td>\n",
       "      <td>0.981891</td>\n",
       "      <td>0.97527</td>\n",
       "    </tr>\n",
       "    <tr>\n",
       "      <th>...</th>\n",
       "      <td>...</td>\n",
       "      <td>...</td>\n",
       "      <td>...</td>\n",
       "      <td>...</td>\n",
       "      <td>...</td>\n",
       "    </tr>\n",
       "    <tr>\n",
       "      <th>1228</th>\n",
       "      <td>1.0</td>\n",
       "      <td>0.994347</td>\n",
       "      <td>0.988418</td>\n",
       "      <td>0.981891</td>\n",
       "      <td>0.97527</td>\n",
       "    </tr>\n",
       "    <tr>\n",
       "      <th>1229</th>\n",
       "      <td>1.0</td>\n",
       "      <td>0.994347</td>\n",
       "      <td>0.988418</td>\n",
       "      <td>0.981891</td>\n",
       "      <td>0.97527</td>\n",
       "    </tr>\n",
       "    <tr>\n",
       "      <th>1230</th>\n",
       "      <td>1.0</td>\n",
       "      <td>0.994347</td>\n",
       "      <td>0.988418</td>\n",
       "      <td>0.981891</td>\n",
       "      <td>0.97527</td>\n",
       "    </tr>\n",
       "    <tr>\n",
       "      <th>1231</th>\n",
       "      <td>1.0</td>\n",
       "      <td>0.994347</td>\n",
       "      <td>0.988418</td>\n",
       "      <td>0.981891</td>\n",
       "      <td>0.97527</td>\n",
       "    </tr>\n",
       "    <tr>\n",
       "      <th>1232</th>\n",
       "      <td>1.0</td>\n",
       "      <td>0.994347</td>\n",
       "      <td>0.988418</td>\n",
       "      <td>0.981891</td>\n",
       "      <td>0.97527</td>\n",
       "    </tr>\n",
       "  </tbody>\n",
       "</table>\n",
       "<p>1233 rows × 5 columns</p>\n",
       "</div>"
      ],
      "text/plain": [
       "      lag_0     lag_1     lag_2     lag_3    lag_4\n",
       "0       1.0  0.994347  0.988418  0.981891  0.97527\n",
       "1       1.0  0.994347  0.988418  0.981891  0.97527\n",
       "2       1.0  0.994347  0.988418  0.981891  0.97527\n",
       "3       1.0  0.994347  0.988418  0.981891  0.97527\n",
       "4       1.0  0.994347  0.988418  0.981891  0.97527\n",
       "...     ...       ...       ...       ...      ...\n",
       "1228    1.0  0.994347  0.988418  0.981891  0.97527\n",
       "1229    1.0  0.994347  0.988418  0.981891  0.97527\n",
       "1230    1.0  0.994347  0.988418  0.981891  0.97527\n",
       "1231    1.0  0.994347  0.988418  0.981891  0.97527\n",
       "1232    1.0  0.994347  0.988418  0.981891  0.97527\n",
       "\n",
       "[1233 rows x 5 columns]"
      ]
     },
     "execution_count": 8,
     "metadata": {},
     "output_type": "execute_result"
    }
   ],
   "source": [
    "from acf import calculate_acf\n",
    "acf_df = calculate_acf(df['종가'], window_size=5)\n",
    "acf_df"
   ]
  },
  {
   "cell_type": "code",
   "execution_count": 9,
   "metadata": {},
   "outputs": [
    {
     "data": {
      "text/plain": [
       "<bound method NDFrame.head of 날짜\n",
       "2019-08-26    4540\n",
       "2019-08-27    4560\n",
       "2019-08-28    4580\n",
       "2019-08-29    4650\n",
       "2019-08-30    4700\n",
       "              ... \n",
       "2024-08-19    4400\n",
       "2024-08-20    4500\n",
       "2024-08-21    4620\n",
       "2024-08-22    4610\n",
       "2024-08-23    4620\n",
       "Name: 종가, Length: 1233, dtype: int64>"
      ]
     },
     "execution_count": 9,
     "metadata": {},
     "output_type": "execute_result"
    }
   ],
   "source": [
    "df['종가'].head"
   ]
  },
  {
   "cell_type": "code",
   "execution_count": 10,
   "metadata": {},
   "outputs": [
    {
     "data": {
      "text/plain": [
       "(1233,)"
      ]
     },
     "execution_count": 10,
     "metadata": {},
     "output_type": "execute_result"
    }
   ],
   "source": [
    "from buffett import calculate_buffett_index\n",
    "buffett = calculate_buffett_index(df['종가'], 'KOR')\n",
    "buffett.shape"
   ]
  },
  {
   "cell_type": "code",
   "execution_count": 11,
   "metadata": {},
   "outputs": [
    {
     "data": {
      "text/plain": [
       "날짜\n",
       "2019-08-26          NaN\n",
       "2019-08-27          NaN\n",
       "2019-08-28          NaN\n",
       "2019-08-29          NaN\n",
       "2019-08-30          NaN\n",
       "                ...    \n",
       "2024-08-19    49.585158\n",
       "2024-08-20    55.881832\n",
       "2024-08-21    62.013127\n",
       "2024-08-22    61.249223\n",
       "2024-08-23    61.756560\n",
       "Name: rsi, Length: 1233, dtype: float64"
      ]
     },
     "execution_count": 11,
     "metadata": {},
     "output_type": "execute_result"
    }
   ],
   "source": [
    "from deMartini import demartini_index\n",
    "de = demartini_index(df['종가'])\n",
    "de"
   ]
  },
  {
   "cell_type": "code",
   "execution_count": 12,
   "metadata": {},
   "outputs": [
    {
     "data": {
      "text/plain": [
       "(1233,)"
      ]
     },
     "execution_count": 12,
     "metadata": {},
     "output_type": "execute_result"
    }
   ],
   "source": [
    "from div_each_before import div_each_before\n",
    "\n",
    "deb = div_each_before(df['종가'])\n",
    "deb.shape"
   ]
  },
  {
   "cell_type": "code",
   "execution_count": 13,
   "metadata": {},
   "outputs": [
    {
     "data": {
      "text/plain": [
       "(1233,)"
      ]
     },
     "execution_count": 13,
     "metadata": {},
     "output_type": "execute_result"
    }
   ],
   "source": [
    "from fractional_difference import fractional_difference\n",
    "fracdiff = fractional_difference(df['종가'], 0.3)\n",
    "fracdiff.shape"
   ]
  },
  {
   "cell_type": "code",
   "execution_count": 14,
   "metadata": {},
   "outputs": [
    {
     "data": {
      "text/plain": [
       "(1233, 7)"
      ]
     },
     "execution_count": 14,
     "metadata": {},
     "output_type": "execute_result"
    }
   ],
   "source": [
    "from pivot import calculate_pivot_points\n",
    "pivot_points = calculate_pivot_points(df['고가'], df['저가'], df['종가'])\n",
    "pivot_points.shape"
   ]
  },
  {
   "cell_type": "code",
   "execution_count": 15,
   "metadata": {},
   "outputs": [
    {
     "data": {
      "text/plain": [
       "(1233,)"
      ]
     },
     "execution_count": 15,
     "metadata": {},
     "output_type": "execute_result"
    }
   ],
   "source": [
    "\n",
    "from sonar import sonar_indicator\n",
    "sn = sonar_indicator(df, window_size=14)\n",
    "sn.shape"
   ]
  },
  {
   "cell_type": "code",
   "execution_count": 16,
   "metadata": {},
   "outputs": [],
   "source": [
    "from stocastic import stochastic_fast, stochastic_slow\n",
    "stfa = stochastic_fast(df)\n",
    "stsl = stochastic_slow(df)"
   ]
  },
  {
   "cell_type": "code",
   "execution_count": 17,
   "metadata": {},
   "outputs": [
    {
     "data": {
      "text/plain": [
       "(1233,)"
      ]
     },
     "execution_count": 17,
     "metadata": {},
     "output_type": "execute_result"
    }
   ],
   "source": [
    "stfa['fastd'].shape"
   ]
  },
  {
   "cell_type": "code",
   "execution_count": 18,
   "metadata": {},
   "outputs": [
    {
     "data": {
      "text/plain": [
       "(1233,)"
      ]
     },
     "execution_count": 18,
     "metadata": {},
     "output_type": "execute_result"
    }
   ],
   "source": [
    "stfa['fastk'].shape"
   ]
  },
  {
   "cell_type": "code",
   "execution_count": 19,
   "metadata": {},
   "outputs": [],
   "source": [
    "from time_delay import time_delay_embedding\n",
    "time_delay_df = time_delay_embedding(df['종가'], 60, 1)"
   ]
  },
  {
   "cell_type": "code",
   "execution_count": 20,
   "metadata": {},
   "outputs": [
    {
     "data": {
      "text/plain": [
       "2019-08-26    4540\n",
       "2019-08-27    4560\n",
       "2019-08-28    4580\n",
       "2019-08-29    4650\n",
       "2019-08-30    4700\n",
       "              ... \n",
       "2024-08-19    4400\n",
       "2024-08-20    4500\n",
       "2024-08-21    4620\n",
       "2024-08-22    4610\n",
       "2024-08-23    4620\n",
       "Name: t-0, Length: 1233, dtype: int64"
      ]
     },
     "execution_count": 20,
     "metadata": {},
     "output_type": "execute_result"
    }
   ],
   "source": [
    "time_delay_df['t-0']"
   ]
  },
  {
   "cell_type": "code",
   "execution_count": 21,
   "metadata": {},
   "outputs": [
    {
     "data": {
      "text/plain": [
       "(1233,)"
      ]
     },
     "execution_count": 21,
     "metadata": {},
     "output_type": "execute_result"
    }
   ],
   "source": [
    "from vix import calculate_vix\n",
    "calVix = calculate_vix(df['종가'], window_size)\n",
    "calVix.shape"
   ]
  },
  {
   "cell_type": "code",
   "execution_count": 22,
   "metadata": {},
   "outputs": [
    {
     "data": {
      "text/plain": [
       "(1233,)"
      ]
     },
     "execution_count": 22,
     "metadata": {},
     "output_type": "execute_result"
    }
   ],
   "source": [
    "from williams import williams_r\n",
    "will = williams_r(df, 5) \n",
    "will.shape"
   ]
  },
  {
   "cell_type": "code",
   "execution_count": 23,
   "metadata": {},
   "outputs": [
    {
     "name": "stdout",
     "output_type": "stream",
     "text": [
      "(2466, 22)\n"
     ]
    },
    {
     "name": "stderr",
     "output_type": "stream",
     "text": [
      "C:\\Users\\kimso\\AppData\\Local\\Temp\\ipykernel_29216\\1081183072.py:14: RuntimeWarning: '<' not supported between instances of 'Timestamp' and 'int', sort order is undefined for incomparable objects.\n",
      "  common_index = common_index.union(df.index)\n",
      "C:\\Users\\kimso\\AppData\\Local\\Temp\\ipykernel_29216\\1081183072.py:14: RuntimeWarning: '<' not supported between instances of 'Timestamp' and 'int', sort order is undefined for incomparable objects.\n",
      "  common_index = common_index.union(df.index)\n",
      "C:\\Users\\kimso\\AppData\\Local\\Temp\\ipykernel_29216\\1081183072.py:14: RuntimeWarning: '<' not supported between instances of 'Timestamp' and 'int', sort order is undefined for incomparable objects.\n",
      "  common_index = common_index.union(df.index)\n",
      "C:\\Users\\kimso\\AppData\\Local\\Temp\\ipykernel_29216\\1081183072.py:14: RuntimeWarning: '<' not supported between instances of 'Timestamp' and 'int', sort order is undefined for incomparable objects.\n",
      "  common_index = common_index.union(df.index)\n",
      "C:\\Users\\kimso\\AppData\\Local\\Temp\\ipykernel_29216\\1081183072.py:14: RuntimeWarning: '<' not supported between instances of 'Timestamp' and 'int', sort order is undefined for incomparable objects.\n",
      "  common_index = common_index.union(df.index)\n",
      "C:\\Users\\kimso\\AppData\\Local\\Temp\\ipykernel_29216\\1081183072.py:14: RuntimeWarning: '<' not supported between instances of 'Timestamp' and 'int', sort order is undefined for incomparable objects.\n",
      "  common_index = common_index.union(df.index)\n",
      "C:\\Users\\kimso\\AppData\\Local\\Temp\\ipykernel_29216\\1081183072.py:14: RuntimeWarning: '<' not supported between instances of 'Timestamp' and 'int', sort order is undefined for incomparable objects.\n",
      "  common_index = common_index.union(df.index)\n",
      "C:\\Users\\kimso\\AppData\\Local\\Temp\\ipykernel_29216\\1081183072.py:14: RuntimeWarning: '<' not supported between instances of 'Timestamp' and 'int', sort order is undefined for incomparable objects.\n",
      "  common_index = common_index.union(df.index)\n",
      "C:\\Users\\kimso\\AppData\\Local\\Temp\\ipykernel_29216\\1081183072.py:14: RuntimeWarning: '<' not supported between instances of 'Timestamp' and 'int', sort order is undefined for incomparable objects.\n",
      "  common_index = common_index.union(df.index)\n",
      "C:\\Users\\kimso\\AppData\\Local\\Temp\\ipykernel_29216\\1081183072.py:14: RuntimeWarning: '<' not supported between instances of 'Timestamp' and 'int', sort order is undefined for incomparable objects.\n",
      "  common_index = common_index.union(df.index)\n"
     ]
    }
   ],
   "source": [
    "import pandas as pd\n",
    "\n",
    "def create_merged_indicators(df_dict):\n",
    "    \"\"\"\n",
    "    Create a new DataFrame by merging multiple indicator DataFrames.\n",
    "    \n",
    "    :param df_dict: Dictionary of DataFrames or Series to merge\n",
    "    :return: Merged DataFrame with all indicators\n",
    "    \"\"\"\n",
    "    # Find the common index\n",
    "    common_index = pd.Index([])\n",
    "    for df in df_dict.values():\n",
    "        if isinstance(df, pd.DataFrame) or isinstance(df, pd.Series):\n",
    "            common_index = common_index.union(df.index)\n",
    "    \n",
    "    # Start with an empty DataFrame\n",
    "    result = pd.DataFrame(index=common_index)\n",
    "    \n",
    "    for name, df in df_dict.items():\n",
    "        # Ensure the index is aligned\n",
    "        if isinstance(df, pd.DataFrame) or isinstance(df, pd.Series):\n",
    "            df = df.reindex(common_index)\n",
    "        \n",
    "        # If df is a Series, convert to DataFrame\n",
    "        if isinstance(df, pd.Series):\n",
    "            df = df.to_frame(name=name)\n",
    "        \n",
    "        # If df has multiple columns, add a prefix\n",
    "        if isinstance(df, pd.DataFrame) and len(df.columns) > 1:\n",
    "            df = df.add_prefix(f\"{name}_\")\n",
    "        \n",
    "        # Merge\n",
    "        result = pd.concat([result, df], axis=1)\n",
    "    \n",
    "    return result\n",
    "\n",
    "# Example usage:\n",
    "df_dict = {\n",
    "    'ACF': acf_df,\n",
    "    'Buffett': buffett,\n",
    "    'DeMartini': de,\n",
    "    'DivEachBefore': deb,\n",
    "    'FracDiff': fracdiff,\n",
    "    'PivotPoints': pivot_points,\n",
    "    'Sonar': sn,\n",
    "    'StochasticFast_K': stfa['fastk'],\n",
    "    'StochasticFast_D': stfa['fastd'],\n",
    "    'TimeDelay': time_delay_df['t-0'],\n",
    "    'VIX': calVix,\n",
    "    'Williams': will\n",
    "}\n",
    "\n",
    "# Create merged indicators DataFrame\n",
    "merged_df = create_merged_indicators(df_dict)\n",
    "\n",
    "print(merged_df.shape)"
   ]
  },
  {
   "cell_type": "code",
   "execution_count": 24,
   "metadata": {},
   "outputs": [
    {
     "data": {
      "text/html": [
       "<div>\n",
       "<style scoped>\n",
       "    .dataframe tbody tr th:only-of-type {\n",
       "        vertical-align: middle;\n",
       "    }\n",
       "\n",
       "    .dataframe tbody tr th {\n",
       "        vertical-align: top;\n",
       "    }\n",
       "\n",
       "    .dataframe thead th {\n",
       "        text-align: right;\n",
       "    }\n",
       "</style>\n",
       "<table border=\"1\" class=\"dataframe\">\n",
       "  <thead>\n",
       "    <tr style=\"text-align: right;\">\n",
       "      <th></th>\n",
       "      <th>lag_0</th>\n",
       "      <th>lag_1</th>\n",
       "      <th>lag_2</th>\n",
       "      <th>lag_3</th>\n",
       "      <th>lag_4</th>\n",
       "    </tr>\n",
       "  </thead>\n",
       "  <tbody>\n",
       "    <tr>\n",
       "      <th>0</th>\n",
       "      <td>1.0</td>\n",
       "      <td>0.994347</td>\n",
       "      <td>0.988418</td>\n",
       "      <td>0.981891</td>\n",
       "      <td>0.97527</td>\n",
       "    </tr>\n",
       "    <tr>\n",
       "      <th>1</th>\n",
       "      <td>1.0</td>\n",
       "      <td>0.994347</td>\n",
       "      <td>0.988418</td>\n",
       "      <td>0.981891</td>\n",
       "      <td>0.97527</td>\n",
       "    </tr>\n",
       "    <tr>\n",
       "      <th>2</th>\n",
       "      <td>1.0</td>\n",
       "      <td>0.994347</td>\n",
       "      <td>0.988418</td>\n",
       "      <td>0.981891</td>\n",
       "      <td>0.97527</td>\n",
       "    </tr>\n",
       "    <tr>\n",
       "      <th>3</th>\n",
       "      <td>1.0</td>\n",
       "      <td>0.994347</td>\n",
       "      <td>0.988418</td>\n",
       "      <td>0.981891</td>\n",
       "      <td>0.97527</td>\n",
       "    </tr>\n",
       "    <tr>\n",
       "      <th>4</th>\n",
       "      <td>1.0</td>\n",
       "      <td>0.994347</td>\n",
       "      <td>0.988418</td>\n",
       "      <td>0.981891</td>\n",
       "      <td>0.97527</td>\n",
       "    </tr>\n",
       "    <tr>\n",
       "      <th>...</th>\n",
       "      <td>...</td>\n",
       "      <td>...</td>\n",
       "      <td>...</td>\n",
       "      <td>...</td>\n",
       "      <td>...</td>\n",
       "    </tr>\n",
       "    <tr>\n",
       "      <th>1228</th>\n",
       "      <td>1.0</td>\n",
       "      <td>0.994347</td>\n",
       "      <td>0.988418</td>\n",
       "      <td>0.981891</td>\n",
       "      <td>0.97527</td>\n",
       "    </tr>\n",
       "    <tr>\n",
       "      <th>1229</th>\n",
       "      <td>1.0</td>\n",
       "      <td>0.994347</td>\n",
       "      <td>0.988418</td>\n",
       "      <td>0.981891</td>\n",
       "      <td>0.97527</td>\n",
       "    </tr>\n",
       "    <tr>\n",
       "      <th>1230</th>\n",
       "      <td>1.0</td>\n",
       "      <td>0.994347</td>\n",
       "      <td>0.988418</td>\n",
       "      <td>0.981891</td>\n",
       "      <td>0.97527</td>\n",
       "    </tr>\n",
       "    <tr>\n",
       "      <th>1231</th>\n",
       "      <td>1.0</td>\n",
       "      <td>0.994347</td>\n",
       "      <td>0.988418</td>\n",
       "      <td>0.981891</td>\n",
       "      <td>0.97527</td>\n",
       "    </tr>\n",
       "    <tr>\n",
       "      <th>1232</th>\n",
       "      <td>1.0</td>\n",
       "      <td>0.994347</td>\n",
       "      <td>0.988418</td>\n",
       "      <td>0.981891</td>\n",
       "      <td>0.97527</td>\n",
       "    </tr>\n",
       "  </tbody>\n",
       "</table>\n",
       "<p>1233 rows × 5 columns</p>\n",
       "</div>"
      ],
      "text/plain": [
       "      lag_0     lag_1     lag_2     lag_3    lag_4\n",
       "0       1.0  0.994347  0.988418  0.981891  0.97527\n",
       "1       1.0  0.994347  0.988418  0.981891  0.97527\n",
       "2       1.0  0.994347  0.988418  0.981891  0.97527\n",
       "3       1.0  0.994347  0.988418  0.981891  0.97527\n",
       "4       1.0  0.994347  0.988418  0.981891  0.97527\n",
       "...     ...       ...       ...       ...      ...\n",
       "1228    1.0  0.994347  0.988418  0.981891  0.97527\n",
       "1229    1.0  0.994347  0.988418  0.981891  0.97527\n",
       "1230    1.0  0.994347  0.988418  0.981891  0.97527\n",
       "1231    1.0  0.994347  0.988418  0.981891  0.97527\n",
       "1232    1.0  0.994347  0.988418  0.981891  0.97527\n",
       "\n",
       "[1233 rows x 5 columns]"
      ]
     },
     "execution_count": 24,
     "metadata": {},
     "output_type": "execute_result"
    }
   ],
   "source": [
    "acf_df"
   ]
  }
 ],
 "metadata": {
  "kernelspec": {
   "display_name": "Python 3 (ipykernel)",
   "language": "python",
   "name": "python3"
  },
  "language_info": {
   "codemirror_mode": {
    "name": "ipython",
    "version": 3
   },
   "file_extension": ".py",
   "mimetype": "text/x-python",
   "name": "python",
   "nbconvert_exporter": "python",
   "pygments_lexer": "ipython3",
   "version": "3.12.3"
  }
 },
 "nbformat": 4,
 "nbformat_minor": 4
}
